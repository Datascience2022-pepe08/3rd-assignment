{
 "cells": [
  {
   "cell_type": "code",
   "execution_count": 1,
   "id": "465a7746",
   "metadata": {},
   "outputs": [],
   "source": [
    "import pandas as pd\n",
    "import numpy as np\n",
    "import seaborn as sns\n",
    "import matplotlib.pyplot as plt\n",
    "import koreanize_matplotlib\n",
    "%matplotlib inline"
   ]
  },
  {
   "cell_type": "code",
   "execution_count": 19,
   "id": "0569ea26",
   "metadata": {},
   "outputs": [
    {
     "data": {
      "text/plain": [
       "(1000000, 34)"
      ]
     },
     "execution_count": 19,
     "metadata": {},
     "output_type": "execute_result"
    }
   ],
   "source": [
    "df = pd.read_csv(\"https://raw.githubusercontent.com/corazzon/boostcourse-ds-510/master/data/NHIS_OPEN_GJ_2017.CSV.zip\",\n",
    "                 encoding=\"cp949\")\n",
    "df.shape"
   ]
  },
  {
   "cell_type": "markdown",
   "id": "fb529d09",
   "metadata": {},
   "source": [
    "## Q1. 연령대별 허리둘레에 대한 기술통계를 구하려고 합니다. 다음 제공되는 딕셔너리를 통해 연령대코드(5세단위)를 \"연령대\"로 만들고 아래와 같은 기술통계값을 구해주세요!"
   ]
  },
  {
   "cell_type": "code",
   "execution_count": 4,
   "id": "f22bfff2",
   "metadata": {},
   "outputs": [],
   "source": [
    "age_code = {1: '0~4세',\n",
    " 2: '5~9세',\n",
    " 3: '10~14세',\n",
    " 4: '15~19세',\n",
    " 5: '20~24세',\n",
    " 6: '25~29세',\n",
    " 7: '30~34세',\n",
    " 8: '35~39세',\n",
    " 9: '40~44세',\n",
    " 10: '45~49세',\n",
    " 11: '50~54세',\n",
    " 12: '55~59세',\n",
    " 13: '60~64세',\n",
    " 14: '65~69세',\n",
    " 15: '70~74세',\n",
    " 16: '75~79세',\n",
    " 17: '80~84세',\n",
    " 18: '85세+'}"
   ]
  },
  {
   "cell_type": "code",
   "execution_count": 5,
   "id": "febf5d86",
   "metadata": {},
   "outputs": [
    {
     "data": {
      "text/html": [
       "<div>\n",
       "<style scoped>\n",
       "    .dataframe tbody tr th:only-of-type {\n",
       "        vertical-align: middle;\n",
       "    }\n",
       "\n",
       "    .dataframe tbody tr th {\n",
       "        vertical-align: top;\n",
       "    }\n",
       "\n",
       "    .dataframe thead th {\n",
       "        text-align: right;\n",
       "    }\n",
       "</style>\n",
       "<table border=\"1\" class=\"dataframe\">\n",
       "  <thead>\n",
       "    <tr style=\"text-align: right;\">\n",
       "      <th></th>\n",
       "      <th>25%</th>\n",
       "      <th>50%</th>\n",
       "      <th>75%</th>\n",
       "      <th>count</th>\n",
       "      <th>max</th>\n",
       "      <th>mean</th>\n",
       "      <th>min</th>\n",
       "      <th>std</th>\n",
       "    </tr>\n",
       "    <tr>\n",
       "      <th>연령대</th>\n",
       "      <th></th>\n",
       "      <th></th>\n",
       "      <th></th>\n",
       "      <th></th>\n",
       "      <th></th>\n",
       "      <th></th>\n",
       "      <th></th>\n",
       "      <th></th>\n",
       "    </tr>\n",
       "  </thead>\n",
       "  <tbody>\n",
       "    <tr>\n",
       "      <th>20~24세</th>\n",
       "      <td>67.5</td>\n",
       "      <td>73.4</td>\n",
       "      <td>81.0</td>\n",
       "      <td>23244.0</td>\n",
       "      <td>999.0</td>\n",
       "      <td>75.152220</td>\n",
       "      <td>47.5</td>\n",
       "      <td>12.251781</td>\n",
       "    </tr>\n",
       "    <tr>\n",
       "      <th>25~29세</th>\n",
       "      <td>69.0</td>\n",
       "      <td>76.5</td>\n",
       "      <td>84.2</td>\n",
       "      <td>64898.0</td>\n",
       "      <td>999.0</td>\n",
       "      <td>77.704783</td>\n",
       "      <td>48.0</td>\n",
       "      <td>16.735734</td>\n",
       "    </tr>\n",
       "    <tr>\n",
       "      <th>30~34세</th>\n",
       "      <td>72.0</td>\n",
       "      <td>80.1</td>\n",
       "      <td>88.0</td>\n",
       "      <td>77517.0</td>\n",
       "      <td>999.0</td>\n",
       "      <td>81.089268</td>\n",
       "      <td>49.0</td>\n",
       "      <td>22.988111</td>\n",
       "    </tr>\n",
       "    <tr>\n",
       "      <th>35~39세</th>\n",
       "      <td>75.0</td>\n",
       "      <td>82.0</td>\n",
       "      <td>89.0</td>\n",
       "      <td>84621.0</td>\n",
       "      <td>999.0</td>\n",
       "      <td>82.094012</td>\n",
       "      <td>9.2</td>\n",
       "      <td>14.522095</td>\n",
       "    </tr>\n",
       "    <tr>\n",
       "      <th>40~44세</th>\n",
       "      <td>73.0</td>\n",
       "      <td>80.0</td>\n",
       "      <td>87.0</td>\n",
       "      <td>130912.0</td>\n",
       "      <td>999.0</td>\n",
       "      <td>80.488308</td>\n",
       "      <td>42.1</td>\n",
       "      <td>10.803098</td>\n",
       "    </tr>\n",
       "    <tr>\n",
       "      <th>45~49세</th>\n",
       "      <td>74.0</td>\n",
       "      <td>81.0</td>\n",
       "      <td>87.0</td>\n",
       "      <td>118357.0</td>\n",
       "      <td>137.0</td>\n",
       "      <td>80.822449</td>\n",
       "      <td>40.0</td>\n",
       "      <td>9.521622</td>\n",
       "    </tr>\n",
       "    <tr>\n",
       "      <th>50~54세</th>\n",
       "      <td>75.0</td>\n",
       "      <td>81.0</td>\n",
       "      <td>87.0</td>\n",
       "      <td>129833.0</td>\n",
       "      <td>142.0</td>\n",
       "      <td>81.062754</td>\n",
       "      <td>6.5</td>\n",
       "      <td>9.095438</td>\n",
       "    </tr>\n",
       "    <tr>\n",
       "      <th>55~59세</th>\n",
       "      <td>76.0</td>\n",
       "      <td>82.0</td>\n",
       "      <td>87.5</td>\n",
       "      <td>112175.0</td>\n",
       "      <td>139.0</td>\n",
       "      <td>81.799905</td>\n",
       "      <td>32.0</td>\n",
       "      <td>8.730398</td>\n",
       "    </tr>\n",
       "    <tr>\n",
       "      <th>60~64세</th>\n",
       "      <td>77.0</td>\n",
       "      <td>83.0</td>\n",
       "      <td>88.0</td>\n",
       "      <td>106491.0</td>\n",
       "      <td>137.0</td>\n",
       "      <td>82.722769</td>\n",
       "      <td>0.0</td>\n",
       "      <td>8.596176</td>\n",
       "    </tr>\n",
       "    <tr>\n",
       "      <th>65~69세</th>\n",
       "      <td>78.0</td>\n",
       "      <td>83.5</td>\n",
       "      <td>89.0</td>\n",
       "      <td>53624.0</td>\n",
       "      <td>129.0</td>\n",
       "      <td>83.588500</td>\n",
       "      <td>50.0</td>\n",
       "      <td>8.443542</td>\n",
       "    </tr>\n",
       "    <tr>\n",
       "      <th>70~74세</th>\n",
       "      <td>78.0</td>\n",
       "      <td>84.0</td>\n",
       "      <td>90.0</td>\n",
       "      <td>51586.0</td>\n",
       "      <td>129.8</td>\n",
       "      <td>84.063372</td>\n",
       "      <td>51.0</td>\n",
       "      <td>8.539639</td>\n",
       "    </tr>\n",
       "    <tr>\n",
       "      <th>75~79세</th>\n",
       "      <td>78.0</td>\n",
       "      <td>84.0</td>\n",
       "      <td>90.0</td>\n",
       "      <td>25972.0</td>\n",
       "      <td>122.0</td>\n",
       "      <td>84.200127</td>\n",
       "      <td>50.0</td>\n",
       "      <td>8.772306</td>\n",
       "    </tr>\n",
       "    <tr>\n",
       "      <th>80~84세</th>\n",
       "      <td>78.0</td>\n",
       "      <td>84.0</td>\n",
       "      <td>90.0</td>\n",
       "      <td>16205.0</td>\n",
       "      <td>120.0</td>\n",
       "      <td>83.751435</td>\n",
       "      <td>38.0</td>\n",
       "      <td>9.041091</td>\n",
       "    </tr>\n",
       "    <tr>\n",
       "      <th>85세+</th>\n",
       "      <td>75.0</td>\n",
       "      <td>81.5</td>\n",
       "      <td>88.0</td>\n",
       "      <td>4125.0</td>\n",
       "      <td>999.0</td>\n",
       "      <td>81.736703</td>\n",
       "      <td>34.0</td>\n",
       "      <td>17.325969</td>\n",
       "    </tr>\n",
       "  </tbody>\n",
       "</table>\n",
       "</div>"
      ],
      "text/plain": [
       "         25%   50%   75%     count    max       mean   min        std\n",
       "연령대                                                                  \n",
       "20~24세  67.5  73.4  81.0   23244.0  999.0  75.152220  47.5  12.251781\n",
       "25~29세  69.0  76.5  84.2   64898.0  999.0  77.704783  48.0  16.735734\n",
       "30~34세  72.0  80.1  88.0   77517.0  999.0  81.089268  49.0  22.988111\n",
       "35~39세  75.0  82.0  89.0   84621.0  999.0  82.094012   9.2  14.522095\n",
       "40~44세  73.0  80.0  87.0  130912.0  999.0  80.488308  42.1  10.803098\n",
       "45~49세  74.0  81.0  87.0  118357.0  137.0  80.822449  40.0   9.521622\n",
       "50~54세  75.0  81.0  87.0  129833.0  142.0  81.062754   6.5   9.095438\n",
       "55~59세  76.0  82.0  87.5  112175.0  139.0  81.799905  32.0   8.730398\n",
       "60~64세  77.0  83.0  88.0  106491.0  137.0  82.722769   0.0   8.596176\n",
       "65~69세  78.0  83.5  89.0   53624.0  129.0  83.588500  50.0   8.443542\n",
       "70~74세  78.0  84.0  90.0   51586.0  129.8  84.063372  51.0   8.539639\n",
       "75~79세  78.0  84.0  90.0   25972.0  122.0  84.200127  50.0   8.772306\n",
       "80~84세  78.0  84.0  90.0   16205.0  120.0  83.751435  38.0   9.041091\n",
       "85세+    75.0  81.5  88.0    4125.0  999.0  81.736703  34.0  17.325969"
      ]
     },
     "execution_count": 5,
     "metadata": {},
     "output_type": "execute_result"
    }
   ],
   "source": [
    "df['연령대'] = df['연령대코드(5세단위)'].apply(lambda x : age_code[x])\n",
    "df.pivot_table(index='연령대',values='허리둘레',aggfunc='describe')"
   ]
  },
  {
   "cell_type": "markdown",
   "id": "880dd348",
   "metadata": {},
   "source": [
    "## Q2. \"음주여부\", \"흡연상태\", \"연령대코드(5세단위)\", \"성별코드\"에 대한 상관계수를 구하고 시각화 해주세요.\n",
    "\n",
    "- 다음의 결과가 나오도록 합니다. 이 때 그래프의 색상, 스타일 표현방식에 차이가 있더라도 상관계수값이 차이가 없다면 문제 없습니다."
   ]
  },
  {
   "cell_type": "code",
   "execution_count": 20,
   "id": "e2eb3d77",
   "metadata": {},
   "outputs": [],
   "source": [
    "columns= ['음주여부','흡연상태','연령대코드(5세단위)','성별코드']\n",
    "df_four = df[columns]\n",
    "df_corr = df_four.corr()"
   ]
  },
  {
   "cell_type": "code",
   "execution_count": 21,
   "id": "aaf29045",
   "metadata": {},
   "outputs": [
    {
     "data": {
      "text/html": [
       "<div>\n",
       "<style scoped>\n",
       "    .dataframe tbody tr th:only-of-type {\n",
       "        vertical-align: middle;\n",
       "    }\n",
       "\n",
       "    .dataframe tbody tr th {\n",
       "        vertical-align: top;\n",
       "    }\n",
       "\n",
       "    .dataframe thead th {\n",
       "        text-align: right;\n",
       "    }\n",
       "</style>\n",
       "<table border=\"1\" class=\"dataframe\">\n",
       "  <thead>\n",
       "    <tr style=\"text-align: right;\">\n",
       "      <th></th>\n",
       "      <th>음주여부</th>\n",
       "      <th>흡연상태</th>\n",
       "      <th>연령대코드(5세단위)</th>\n",
       "      <th>성별코드</th>\n",
       "    </tr>\n",
       "  </thead>\n",
       "  <tbody>\n",
       "    <tr>\n",
       "      <th>0</th>\n",
       "      <td>0.0</td>\n",
       "      <td>3.0</td>\n",
       "      <td>13</td>\n",
       "      <td>1</td>\n",
       "    </tr>\n",
       "    <tr>\n",
       "      <th>1</th>\n",
       "      <td>0.0</td>\n",
       "      <td>1.0</td>\n",
       "      <td>8</td>\n",
       "      <td>2</td>\n",
       "    </tr>\n",
       "    <tr>\n",
       "      <th>2</th>\n",
       "      <td>0.0</td>\n",
       "      <td>1.0</td>\n",
       "      <td>8</td>\n",
       "      <td>1</td>\n",
       "    </tr>\n",
       "    <tr>\n",
       "      <th>3</th>\n",
       "      <td>1.0</td>\n",
       "      <td>1.0</td>\n",
       "      <td>12</td>\n",
       "      <td>2</td>\n",
       "    </tr>\n",
       "    <tr>\n",
       "      <th>4</th>\n",
       "      <td>0.0</td>\n",
       "      <td>3.0</td>\n",
       "      <td>8</td>\n",
       "      <td>1</td>\n",
       "    </tr>\n",
       "  </tbody>\n",
       "</table>\n",
       "</div>"
      ],
      "text/plain": [
       "   음주여부  흡연상태  연령대코드(5세단위)  성별코드\n",
       "0   0.0   3.0           13     1\n",
       "1   0.0   1.0            8     2\n",
       "2   0.0   1.0            8     1\n",
       "3   1.0   1.0           12     2\n",
       "4   0.0   3.0            8     1"
      ]
     },
     "execution_count": 21,
     "metadata": {},
     "output_type": "execute_result"
    }
   ],
   "source": [
    "df_four.head()"
   ]
  },
  {
   "cell_type": "code",
   "execution_count": 22,
   "id": "587dae35",
   "metadata": {},
   "outputs": [
    {
     "data": {
      "text/html": [
       "<div>\n",
       "<style scoped>\n",
       "    .dataframe tbody tr th:only-of-type {\n",
       "        vertical-align: middle;\n",
       "    }\n",
       "\n",
       "    .dataframe tbody tr th {\n",
       "        vertical-align: top;\n",
       "    }\n",
       "\n",
       "    .dataframe thead th {\n",
       "        text-align: right;\n",
       "    }\n",
       "</style>\n",
       "<table border=\"1\" class=\"dataframe\">\n",
       "  <thead>\n",
       "    <tr style=\"text-align: right;\">\n",
       "      <th></th>\n",
       "      <th>음주여부</th>\n",
       "      <th>흡연상태</th>\n",
       "      <th>연령대코드(5세단위)</th>\n",
       "      <th>성별코드</th>\n",
       "    </tr>\n",
       "  </thead>\n",
       "  <tbody>\n",
       "    <tr>\n",
       "      <th>음주여부</th>\n",
       "      <td>1.000000</td>\n",
       "      <td>0.352014</td>\n",
       "      <td>-0.283296</td>\n",
       "      <td>-0.368630</td>\n",
       "    </tr>\n",
       "    <tr>\n",
       "      <th>흡연상태</th>\n",
       "      <td>0.352014</td>\n",
       "      <td>1.000000</td>\n",
       "      <td>-0.125714</td>\n",
       "      <td>-0.588491</td>\n",
       "    </tr>\n",
       "    <tr>\n",
       "      <th>연령대코드(5세단위)</th>\n",
       "      <td>-0.283296</td>\n",
       "      <td>-0.125714</td>\n",
       "      <td>1.000000</td>\n",
       "      <td>0.080093</td>\n",
       "    </tr>\n",
       "    <tr>\n",
       "      <th>성별코드</th>\n",
       "      <td>-0.368630</td>\n",
       "      <td>-0.588491</td>\n",
       "      <td>0.080093</td>\n",
       "      <td>1.000000</td>\n",
       "    </tr>\n",
       "  </tbody>\n",
       "</table>\n",
       "</div>"
      ],
      "text/plain": [
       "                 음주여부      흡연상태  연령대코드(5세단위)      성별코드\n",
       "음주여부         1.000000  0.352014    -0.283296 -0.368630\n",
       "흡연상태         0.352014  1.000000    -0.125714 -0.588491\n",
       "연령대코드(5세단위) -0.283296 -0.125714     1.000000  0.080093\n",
       "성별코드        -0.368630 -0.588491     0.080093  1.000000"
      ]
     },
     "execution_count": 22,
     "metadata": {},
     "output_type": "execute_result"
    }
   ],
   "source": [
    "df_corr"
   ]
  },
  {
   "cell_type": "code",
   "execution_count": 25,
   "id": "c9d8f33f",
   "metadata": {},
   "outputs": [
    {
     "data": {
      "text/plain": [
       "<AxesSubplot:>"
      ]
     },
     "execution_count": 25,
     "metadata": {},
     "output_type": "execute_result"
    },
    {
     "data": {
      "image/png": "[encoded data removed]",
      "text/plain": [
       "<Figure size 432x288 with 2 Axes>"
      ]
     },
     "metadata": {
      "needs_background": "light"
     },
     "output_type": "display_data"
    }
   ],
   "source": [
    "mask=np.triu(np.ones_like(df_corr,dtype=np.bool))\n",
    "sns.heatmap(df_corr,mask=mask, annot=True,fmt='.2f',cmap='Blues')"
   ]
  },
  {
   "cell_type": "markdown",
   "id": "c7cde65a",
   "metadata": {},
   "source": [
    "## Q3. 흡연하는 사람과 음주하는 사람들의 수는 얼마나 차이가 있을까요?\n",
    "\n",
    "- 건강보험에서 제공하고 있는 데이터는 용량을 줄이기 위해 대부분의 데이터를 숫자 형태로 제공하고 있습니다. replace 기능을 사용하면 딕셔너리의 값을 의미하는 문자 형태로 변경해 볼 수 있습니다. 다음 제공되는 딕셔너리 값을 사용하여 숫자가 의미하는 문자 형태로 변경한 뒤 전체 데이터에서 음주와 흡연에 대한 교차 테이블을 구해 각 해당 빈도수를 구하고 시각화 해주세요!\n",
    "- groupby, pivot_table로 구할 수도 있지만, 수업에서는 다루지 않았던 pandas의 crosstab 기능을 사용해서도 비교적 쉽게 구할 수 있습니다.\n",
    "- crosstab 을 사용할 때는 다음의 문서를 참고하여 구해보세요. pandas.crosstab — pandas documentation\n",
    "- 그리고 막대그래프를 통해 결과를 시각화해주세요! 시각화를 할 때 그래프의 스타일이나 막대의 색상 등이 달라도 상관 없으니 사용하고 싶은 스타일을 적용해서 시각화해도 좋습니다.\n"
   ]
  },
  {
   "cell_type": "code",
   "execution_count": 6,
   "id": "824d3ea9",
   "metadata": {},
   "outputs": [],
   "source": [
    "smoke = {1 : \"흡연안함\", 2: \"끊음\", 3: \"흡연중\"}\n",
    "drink = {0: \"안마심\", 1: \"마심\"}"
   ]
  },
  {
   "cell_type": "code",
   "execution_count": 7,
   "id": "46d17430",
   "metadata": {},
   "outputs": [],
   "source": [
    "df['흡연상태'].replace(smoke, inplace=True)\n",
    "df['음주여부'].replace(drink, inplace=True)"
   ]
  },
  {
   "cell_type": "code",
   "execution_count": 8,
   "id": "2c9771bb",
   "metadata": {},
   "outputs": [
    {
     "data": {
      "text/html": [
       "<div>\n",
       "<style scoped>\n",
       "    .dataframe tbody tr th:only-of-type {\n",
       "        vertical-align: middle;\n",
       "    }\n",
       "\n",
       "    .dataframe tbody tr th {\n",
       "        vertical-align: top;\n",
       "    }\n",
       "\n",
       "    .dataframe thead th {\n",
       "        text-align: right;\n",
       "    }\n",
       "</style>\n",
       "<table border=\"1\" class=\"dataframe\">\n",
       "  <thead>\n",
       "    <tr style=\"text-align: right;\">\n",
       "      <th>흡연상태</th>\n",
       "      <th>끊음</th>\n",
       "      <th>흡연안함</th>\n",
       "      <th>흡연중</th>\n",
       "    </tr>\n",
       "    <tr>\n",
       "      <th>음주여부</th>\n",
       "      <th></th>\n",
       "      <th></th>\n",
       "      <th></th>\n",
       "    </tr>\n",
       "  </thead>\n",
       "  <tbody>\n",
       "    <tr>\n",
       "      <th>마심</th>\n",
       "      <td>120779</td>\n",
       "      <td>213743</td>\n",
       "      <td>162166</td>\n",
       "    </tr>\n",
       "    <tr>\n",
       "      <th>안마심</th>\n",
       "      <td>55334</td>\n",
       "      <td>394503</td>\n",
       "      <td>52845</td>\n",
       "    </tr>\n",
       "  </tbody>\n",
       "</table>\n",
       "</div>"
      ],
      "text/plain": [
       "흡연상태      끊음    흡연안함     흡연중\n",
       "음주여부                        \n",
       "마심    120779  213743  162166\n",
       "안마심    55334  394503   52845"
      ]
     },
     "execution_count": 8,
     "metadata": {},
     "output_type": "execute_result"
    }
   ],
   "source": [
    "pd.crosstab(df['음주여부'],df['흡연상태'])"
   ]
  },
  {
   "cell_type": "code",
   "execution_count": 9,
   "id": "b2b6fd50",
   "metadata": {},
   "outputs": [
    {
     "data": {
      "text/plain": [
       "<AxesSubplot:xlabel='흡연상태', ylabel='count'>"
      ]
     },
     "execution_count": 9,
     "metadata": {},
     "output_type": "execute_result"
    },
    {
     "data": {
      "image/png": "[encoded data removed]",
      "text/plain": [
       "<Figure size 432x288 with 1 Axes>"
      ]
     },
     "metadata": {
      "needs_background": "light"
     },
     "output_type": "display_data"
    }
   ],
   "source": [
    "sns.countplot(data=df,x='흡연상태',hue='음주여부')"
   ]
  },
  {
   "cell_type": "markdown",
   "id": "91345f50",
   "metadata": {},
   "source": [
    "## Q4. 체중이 120Kg 이상인 데이터를 찾아 \"총콜레스테롤\", \"감마지티피\" 값을 음주여부에 따라 산점도로 시각화해주세요!\n",
    "\n",
    "- 체중이 120Kg 이 넘는다면 비만으로 건강관리가 필요합니다. 120Kg 이상인 데이터를 찾아 \"총콜레스테롤\", \"감마지티피\" 값을 음주여부에 따라 산점도로 시각화해주세요! (이때 120Kg 도 포함되게 구합니다.) 그래프의 설정과 seaborn 버전에 따라 여백이나 회귀선의 시작과 끝점에 차이가 있을 수 있습니다."
   ]
  },
  {
   "cell_type": "code",
   "execution_count": 14,
   "id": "1b8c208f",
   "metadata": {},
   "outputs": [],
   "source": [
    "fat_df = df[df['체중(5Kg 단위)']>=120]"
   ]
  },
  {
   "cell_type": "code",
   "execution_count": 15,
   "id": "16e68f29",
   "metadata": {},
   "outputs": [
    {
     "data": {
      "text/plain": [
       "<seaborn.axisgrid.FacetGrid at 0x1c8ab258d30>"
      ]
     },
     "execution_count": 15,
     "metadata": {},
     "output_type": "execute_result"
    },
    {
     "data": {
      "image/png": "[encoded data removed]",
      "text/plain": [
       "<Figure size 1144.12x360 with 3 Axes>"
      ]
     },
     "metadata": {
      "needs_background": "light"
     },
     "output_type": "display_data"
    }
   ],
   "source": [
    "sns.lmplot(x='총콜레스테롤',y='감마지티피',data=fat_df,hue='음주여부',col='흡연상태')"
   ]
  },
  {
   "cell_type": "markdown",
   "id": "999de4e8",
   "metadata": {},
   "source": [
    "## Q5. 연령대별로 시력은 얼마나 차이가 날까요? 연령대, 성별 좌우 평균 시력을 시각화 해주세요!\n",
    "\n",
    "- 시력은 0.1~2.5 사이의 값으로 표기하며 0.1 이하의 시력은 0.1, 실명은 9.9로 표기합니다.\n",
    "\n",
    "- 실명인 데이터를 평균에 포함하게 되면 시력에 대한 평균을 제대로 구하기 어렵습니다. 실명 데이터를 제외하고 연령대, 성별에 따른 평균 좌우 시력을 구해주세요!\n",
    "\n",
    "- 서브플롯으로 시각화하여 표현해 주고 matplotlib 에 대한 사용법은 다음의 영상도 함께 참고해 주세요! (https://www.youtube.com/watch?v=ZTRKojTLE8M)\n",
    "\n",
    "- 시각화 예시는 참고사항으로 스타일이나 폰트 구성이 달라도 연령대, 성별 좌우평균시력을 시각화 하면 됩니다."
   ]
  },
  {
   "cell_type": "code",
   "execution_count": 71,
   "id": "5ecf4216",
   "metadata": {},
   "outputs": [],
   "source": [
    "can_see = df[(df['시력(좌)'] != 9.9) & (df['시력(우)'] != 9.9)]"
   ]
  },
  {
   "cell_type": "code",
   "execution_count": 72,
   "id": "5ff1dd8b",
   "metadata": {},
   "outputs": [
    {
     "data": {
      "text/plain": [
       "<AxesSubplot:xlabel='시력(우)', ylabel='연령대'>"
      ]
     },
     "execution_count": 72,
     "metadata": {},
     "output_type": "execute_result"
    },
    {
     "data": {
      "image/png": "[encoded data removed]",
      "text/plain": [
       "<Figure size 1008x432 with 2 Axes>"
      ]
     },
     "metadata": {
      "needs_background": "light"
     },
     "output_type": "display_data"
    }
   ],
   "source": [
    "order = ['20~24세','25~29세','30~34세','35~39세','40~44세','45~49세','50~54세','55~59세','60~64세','65~69세','70~74세','75~79세','80~84세','85세+']\n",
    "plt.figure(figsize=(14,6))\n",
    "plt.subplot(1,2,1)\n",
    "sns.barplot(x='시력(좌)',y='연령대',order=order,data=can_see,hue='성별코드',ci=None)\n",
    "plt.subplot(1,2,2)\n",
    "sns.barplot(x='시력(우)',y='연령대',order=order,data=can_see,hue='성별코드',ci=None)"
   ]
  },
  {
   "cell_type": "code",
   "execution_count": null,
   "id": "674452c6",
   "metadata": {},
   "outputs": [],
   "source": []
  }
 ],
 "metadata": {
  "kernelspec": {
   "display_name": "Python 3",
   "language": "python",
   "name": "python3"
  },
  "language_info": {
   "codemirror_mode": {
    "name": "ipython",
    "version": 3
   },
   "file_extension": ".py",
   "mimetype": "text/x-python",
   "name": "python",
   "nbconvert_exporter": "python",
   "pygments_lexer": "ipython3",
   "version": "3.8.8"
  }
 },
 "nbformat": 4,
 "nbformat_minor": 5
}
